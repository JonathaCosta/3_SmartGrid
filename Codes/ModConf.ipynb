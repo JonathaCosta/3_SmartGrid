{
  "cells": [
    {
      "cell_type": "markdown",
      "metadata": {
        "id": "view-in-github",
        "colab_type": "text"
      },
      "source": [
        "<a href=\"https://colab.research.google.com/github/JonathaCosta/SmartGrid/blob/main/Codes/ModConf.ipynb\" target=\"_parent\"><img src=\"https://colab.research.google.com/assets/colab-badge.svg\" alt=\"Open In Colab\"/></a>"
      ]
    },
    {
      "cell_type": "code",
      "source": [
        "!pip install -U scikit-fuzzy"
      ],
      "metadata": {
        "id": "-cFKwkB2evjQ"
      },
      "execution_count": null,
      "outputs": []
    },
    {
      "cell_type": "code",
      "execution_count": 6,
      "metadata": {
        "id": "ttre0M2NXrL_"
      },
      "outputs": [],
      "source": [
        "#@title\n",
        "#!/usr/bin/env python3\n",
        "# -*- coding: utf-8 -*-\n",
        "\"\"\"\n",
        "Método utiliza Lógica Fuzzy para definir um valor de conforto em 0 e 1.\n",
        "\n",
        "\"\"\"\n",
        "\n",
        "import numpy as np\n",
        "import skfuzzy as fuzz\n",
        "from skfuzzy import control as ctrl\n",
        "from random import randint,random\n",
        "\n",
        "class Fz_Comfort():\n",
        "    \n",
        "    '''\n",
        "    Classe aplica métodos para construir uma saída de conforto entre 0,1\n",
        "    \n",
        "    * Entrada:  Estado de humor, temperatura e humidade\n",
        "    \n",
        "    * Saída: Nível de conforto da carga\n",
        "        \n",
        "    '''\n",
        "    \n",
        "    def __init__(self,humor,temp,umidade):\n",
        "        \n",
        "        # Variáveis linguísticas\n",
        "        self.temp_in = temp\n",
        "        self.humor_in = humor\n",
        "        self.umidade_in = umidade\n",
        "        \n",
        "        # Valores das variáveis linguísticas\n",
        "        self.t = ['muito fria','fria','amena','quente','muito quente']        \n",
        "        self.h = ['mau','neutro','bom']        \n",
        "        self.u = ['seco','mediana','alta']\n",
        "        \n",
        "        # Função de início da classe        \n",
        "        self.Vars_Pert()\n",
        "        self.Rules()        \n",
        "        self.Comput()\n",
        "        self.Grap_result() \n",
        "        \n",
        "               \n",
        "    def Vars_Pert(self):\n",
        "        '''\n",
        "        Método cria as variáveis de entrada e saida para o problema\n",
        "        e atribui o mapeamento entre os valores nítidos e difusos\n",
        "        utilizando a função de pertinencia\n",
        "        * Humor       : mau, bom e ótimo. Escala 0 a 10.\n",
        "        * Temperatura : fria, amena e quente.Escala 0 a 40.\n",
        "        * Umidade     : baixa, média e alta. Escala 0 a 100.\n",
        "        * Conforto    : baixo, médio e alto. Escala 0 a 10.\n",
        "        \n",
        "        '''       \n",
        "        \n",
        "        #Entrada e pertinencia - 01\n",
        "        self.temp = ctrl.Antecedent(np.arange(0, 41, 1), 'temperatura')  \n",
        "        self.temp[self.t[0]] = fuzz.trapmf(self.temp.universe, [0,0,10,18])        \n",
        "        self.temp[self.t[1]] = fuzz.gaussmf(self.temp.universe, 18,3)         \n",
        "        self.temp[self.t[2]] = fuzz.gaussmf(self.temp.universe, 25,3)         \n",
        "        self.temp[self.t[3]] = fuzz.gaussmf(self.temp.universe, 35,4)         \n",
        "        self.temp[self.t[4]] = fuzz.gaussmf(self.temp.universe, 38,4)                \n",
        "  \n",
        "        #Entrada e pertinencia - 02\n",
        "        self.umidade = ctrl.Antecedent(np.arange(0,100,1), 'umidade')\n",
        "        self.umidade[self.u[0]] = fuzz.trapmf(self.umidade.universe, [0,0,25,35])\n",
        "        \n",
        "        # self.umidade.automf(names = self.u)        \n",
        "        \n",
        "        #Entrada e pertinencia - 03\n",
        "        self.humor = ctrl.Antecedent(np.arange(0,10,1), 'humor')\n",
        "        self.humor.automf(names = self.h)                        \n",
        "                      \n",
        "        #Saída e pertinencia\n",
        "        self.conf = ctrl.Consequent(np.arange(0, 1.1, 0.1), 'conforto')  \n",
        "        self.conf.automf(names=['baixo','médio','alto'])\n",
        "\n",
        "        \n",
        "    def Rules(self):\n",
        "\n",
        "        self.rule1 = ctrl.Rule(self.humor[self.h[0]] | self.temp[self.t[0]], self.conf['alto'])\n",
        "        self.rule2 = ctrl.Rule(self.humor[self.h[1]] | self.temp[self.t[1]], self.conf['médio'])\n",
        "        self.rule3 = ctrl.Rule(self.humor[self.h[2]] |self.umidade[self.u[0]], self.conf['baixo'])\n",
        "                        \n",
        "        \n",
        "        self.conf_ctrl = ctrl.ControlSystem([self.rule1, self.rule2, self.rule3])\n",
        "        self.conf_simulador = ctrl.ControlSystemSimulation(self.conf_ctrl)    \n",
        "\n",
        "    def Comput(self):\n",
        "        \n",
        "        self.conf_simulador.input['temperatura'] = self.temp_in\n",
        "        self.conf_simulador.input['umidade'] = self.umidade_in\n",
        "        self.conf_simulador.input['humor'] = self.humor_in      # Chamada pela label\n",
        "                \n",
        "        self.conf_simulador.compute()\n",
        "                \n",
        "    def Grap_result(self):\n",
        "        #Resultados\n",
        "        # self.temp.view(sim=self.conf_simulador)\n",
        "        # self.humor.view (sim=self.conf_simulador)        \n",
        "        self.umidade.view(sim=self.conf_simulador)\n",
        "        # self.comfort.view(sim=self.conf_simulador)\n",
        "           \n",
        "\n",
        "class Fz_sim(Fz_Comfort):\n",
        "    \n",
        "    ''' \n",
        "    Classe evoca métodos da classe Fz_Comfort para definir valores de conforto.\n",
        "    Utiliza como input valores randomicos das 3 variáveis de entrada.\n",
        "    '''\n",
        "    def __init__(self, \n",
        "                 temp = round(randint(0, 40)+random(),1),\n",
        "                 umid = round(randint(0, 101),1),\n",
        "                 humor = round(randint(0, 9)+random(),1)\n",
        "                 ):\n",
        "        self.h = humor  \n",
        "        self.t = temp\n",
        "        self.u = umid\n",
        "        \n",
        "    def Fuzificar(self,imprimir=0):\n",
        "        \n",
        "        res = Fz_Comfort(self.h,self.t,self.u).conf_simulador.output['conforto']\n",
        "        if imprimir == 1:\n",
        "            print('Input:\\n\\tHumor:',self.h,'| Sensação térmica:',self.t,'| Umidade:',self.u,\n",
        "                  '\\n\\tConforto atribuído:',res,'\\n')     \n",
        "        else:\n",
        "            None\n",
        "        return res\n"
      ]
    },
    {
      "cell_type": "code",
      "source": [
        "        \n",
        "# =============================================================================\n",
        "# Área de test\n",
        "# =============================================================================\n",
        "for i in [20,40,60,80]:\n",
        "    Fz_sim(umid=i).Fuzificar(1)\n",
        "\n"
      ],
      "metadata": {
        "colab": {
          "base_uri": "https://localhost:8080/",
          "height": 1000
        },
        "id": "GCtJP919o92b",
        "outputId": "8e6cb425-467c-4e94-b1bc-a5d1d9d14a0d"
      },
      "execution_count": 7,
      "outputs": [
        {
          "output_type": "stream",
          "name": "stdout",
          "text": [
            "Input:\n",
            "\tHumor: 3.9 | Sensação térmica: 18.6 | Umidade: 20 \n",
            "\tConforto atribuído: 0.42105174427545605 \n",
            "\n",
            "Input:\n",
            "\tHumor: 3.9 | Sensação térmica: 18.6 | Umidade: 40 \n",
            "\tConforto atribuído: 0.5061467281264705 \n",
            "\n",
            "Input:\n",
            "\tHumor: 3.9 | Sensação térmica: 18.6 | Umidade: 60 \n",
            "\tConforto atribuído: 0.5061467281264705 \n",
            "\n",
            "Input:\n",
            "\tHumor: 3.9 | Sensação térmica: 18.6 | Umidade: 80 \n",
            "\tConforto atribuído: 0.5061467281264705 \n",
            "\n"
          ]
        },
        {
          "output_type": "display_data",
          "data": {
            "text/plain": [
              "<Figure size 432x288 with 1 Axes>"
            ],
            "image/png": "[encoded data removed]"
          },
          "metadata": {
            "needs_background": "light"
          }
        },
        {
          "output_type": "display_data",
          "data": {
            "text/plain": [
              "<Figure size 432x288 with 1 Axes>"
            ],
            "image/png": "[encoded data removed]"
          },
          "metadata": {
            "needs_background": "light"
          }
        },
        {
          "output_type": "display_data",
          "data": {
            "text/plain": [
              "<Figure size 432x288 with 1 Axes>"
            ],
            "image/png": "[encoded data removed]"
          },
          "metadata": {
            "needs_background": "light"
          }
        },
        {
          "output_type": "display_data",
          "data": {
            "text/plain": [
              "<Figure size 432x288 with 1 Axes>"
            ],
            "image/png": "[encoded data removed]"
          },
          "metadata": {
            "needs_background": "light"
          }
        }
      ]
    },
    {
      "cell_type": "code",
      "source": [
        ""
      ],
      "metadata": {
        "id": "D7SpB9Jho_RA"
      },
      "execution_count": null,
      "outputs": []
    }
  ],
  "metadata": {
    "colab": {
      "name": "ModConf.ipynb",
      "provenance": [],
      "mount_file_id": "16y870XJmOd6cMAwg0X6XmEzEwkBwPMVz",
      "authorship_tag": "ABX9TyPr96QI9kJibOH7+pzk2FyF",
      "include_colab_link": true
    },
    "kernelspec": {
      "display_name": "Python 3",
      "name": "python3"
    },
    "language_info": {
      "name": "python"
    }
  },
  "nbformat": 4,
  "nbformat_minor": 0
}